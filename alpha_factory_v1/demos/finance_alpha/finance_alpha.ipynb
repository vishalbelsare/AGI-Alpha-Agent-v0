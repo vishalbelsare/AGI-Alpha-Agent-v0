{
 "cells": [
  {
   "cell_type": "markdown",
   "metadata": {},
   "source": "[See docs/DISCLAIMER_SNIPPET.md](../../../docs/DISCLAIMER_SNIPPET.md)"
  },
  {
   "cell_type": "markdown",
   "id": "fb3dbd3a",
   "metadata": {},
   "source": [
    "# Alpha-Factory Finance Demo 📈\n",
    "\n",
    "This notebook launches a **single-node Alpha-Factory** container, activates\n",
    "the *BTC/GLD momentum* strategy, then queries the FinanceAgent for **positions**\n",
    "and **P&L**.  It runs **online or offline** – if `OPENAI_API_KEY` is missing the\n",
    "container automatically uses a local Φ-2 model.\n",
    "\n",
    "It uses a simulated exchange by default and should not be used with real funds.\n"
   ]
  },
  {
   "cell_type": "code",
   "metadata": {},
   "source": [
    "# 0 · Environment setup\n",
    "import shutil, subprocess\n",
    "if not shutil.which('docker'):\n",
    "    print('⏳ Installing Docker...')\n",
    "    subprocess.run(['apt-get','update'], check=True)\n",
    "    subprocess.run(['apt-get','install','-y','docker.io'], check=True)\n",
    "    subprocess.run(['service','docker','start'], check=True)\n",
    "else:\n",
    "    print('✅ Docker already installed')\n"
   ]
  },
  {
   "cell_type": "markdown",
   "id": "d96a2ed0",
   "metadata": {},
   "source": [
    "## 1 · Parameters\n",
    "Adjust `STRATEGY` for your trading pair and modify `PORT_API` if 8000 is occupied. Set `TRACE_WS_PORT` if 8088 is taken."
   ]
  },
  {
   "cell_type": "code",
   "execution_count": null,
   "id": "244c4106",
   "metadata": {},
   "outputs": [],
   "source": [
    "IMG = \"ghcr.io/montrealai/alphafactory_pro:cpu-slim-latest\"\n",
    "PORT_API = 8000\n",
    "TRACE_WS_PORT = 8088\n",
    "CONTAINER = \"af_nb_demo\"\n",
    "STRATEGY = \"btc_gld\"  # change to your own\n"
   ]
  },
  {
   "cell_type": "markdown",
   "id": "7fc59fef",
   "metadata": {},
   "source": [
    "## 2 · Start container"
   ]
  },
  {
   "cell_type": "code",
   "execution_count": null,
   "id": "cc945f66",
   "metadata": {},
   "outputs": [],
   "source": [
    "import subprocess, time, requests, socket\n",
    "print('⏳ Pulling image (skip if cached)…')\n",
    "subprocess.run(['docker', 'pull', IMG], check=True)\n",
    "\n",
    "def port_free(port:int)->bool:\n",
    "    with socket.socket(socket.AF_INET, socket.SOCK_STREAM) as s:\n",
    "        return s.connect_ex(('localhost', port)) != 0\n",
    "if not port_free(PORT_API):\n",
    "    raise RuntimeError(f'Port {PORT_API} is already in use')\n",
    "if not port_free(TRACE_WS_PORT):\n",
    "    raise RuntimeError(f'Port {TRACE_WS_PORT} is already in use')\n",
    "\n",
    "print('🚀 Starting Alpha‑Factory …')\n",
    "cid = subprocess.check_output(['docker','run','-d','--rm','--name',CONTAINER,\n",
    "    '-p', f'{PORT_API}:8000', '-p', f'{TRACE_WS_PORT}:{TRACE_WS_PORT}',\n",
    "    '-e', f'FINANCE_STRATEGY={STRATEGY}', '-e', f'TRACE_WS_PORT={TRACE_WS_PORT}', IMG], text=True).strip()\n",
    "\n",
    "for _ in range(90):\n",
    "    try:\n",
    "        requests.get(f'http://localhost:{PORT_API}/health', timeout=1)\n",
    "        break\n",
    "    except Exception:\n",
    "        time.sleep(1)\n",
    "else:\n",
    "    subprocess.run(['docker','logs',cid])\n",
    "    raise RuntimeError('API did not start in 90 s')\n",
    "print(f'✅ API ready at http://localhost:{PORT_API}')\n"
   ]
  },
  {
   "cell_type": "markdown",
   "id": "03a822ab",
   "metadata": {},
   "source": [
    "## 3 · Fetch positions & P&L"
   ]
  },
  {
   "cell_type": "code",
   "execution_count": null,
   "id": "ca19600f",
   "metadata": {},
   "outputs": [],
   "source": [
    "import pandas as pd, requests, IPython.display as disp\n",
    "base = f\"http://localhost:{PORT_API}/api/finance\"\n",
    "positions = requests.get(base + \"/positions\").json()\n",
    "pnl = requests.get(base + \"/pnl\").json()\n",
    "\n",
    "disp.display(pd.json_normalize(positions).style.set_caption(\"Current Positions\"))\n",
    "disp.display(pd.json_normalize(pnl).style.set_caption(\"P&L (USD)\"))\n"
   ]
  },
  {
   "cell_type": "markdown",
   "id": "openai_sdk_demo",
   "metadata": {},
   "source": [
    "## 4a · Quick SDK demo\n",
    "Call the FinanceAgent via the OpenAI Agents SDK (falls back to REST)."
   ]
  },
  {
   "cell_type": "code",
   "execution_count": null,
   "id": "sdk_demo",
   "metadata": {},
   "outputs": [],
   "source": [
    "try:\n",
    "    from openai.agents import AgentRuntime\n",
    "    rt = AgentRuntime(base_url=f'http://localhost:{PORT_API}', api_key=None)\n",
    "    fin = rt.get_agent('FinanceAgent')\n",
    "    print(fin.alpha_signals())\n",
    "except Exception as e:\n",
    "    import requests, json\n",
    "    print('SDK unavailable, using REST → positions:')\n",
    "    print(json.dumps(requests.get(base + '/positions').json(), indent=2))\n"
   ]
  },
  {
   "cell_type": "markdown",
   "id": "41a7bd2c",
   "metadata": {},
   "source": [
    "## 4 · Explore the trace‑graph ✨\n",
    "Open [http://localhost:{TRACE_WS_PORT}](http://localhost:{TRACE_WS_PORT}) in your browser to watch\n",
    "the planner emit decisions and tool‑calls in real time."
   ]
  },
  {
   "cell_type": "code",
   "execution_count": null,
   "id": "open_graph",
   "metadata": {},
   "outputs": [],
   "source": [
    "from IPython.display import IFrame, display\n",
    "display(IFrame(f'http://localhost:{TRACE_WS_PORT}', width='100%', height=500))\n"
   ]
  },
  {
   "cell_type": "markdown",
   "id": "abf41abb",
   "metadata": {},
   "source": [
    "## 5 · Shutdown"
   ]
  },
  {
   "cell_type": "code",
   "execution_count": null,
   "id": "895feff1",
   "metadata": {},
   "outputs": [],
   "source": [
    "import subprocess\n",
    "subprocess.run(['docker','stop',CONTAINER], check=False)\n",
    "print('🛑 Container stopped.')\n"
   ]
  }
 ],
 "metadata": {
  "kernelspec": {
   "display_name": "Python 3",
   "language": "python",
   "name": "python3"
  }
 },
 "nbformat": 4,
 "nbformat_minor": 5
}
