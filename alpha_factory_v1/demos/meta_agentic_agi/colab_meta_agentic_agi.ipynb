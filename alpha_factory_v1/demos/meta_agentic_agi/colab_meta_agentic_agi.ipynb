{
 "cells": [
  {
   "cell_type": "markdown",
   "metadata": {},
   "source": "[See docs/DISCLAIMER_SNIPPET.md](../../../docs/DISCLAIMER_SNIPPET.md)"
  },
  {
   "cell_type": "markdown",
   "metadata": {},
   "source": [
    "# Meta-Agentic α-AGI Demo 📊",
    "",
    "Run the evolutionary **meta-agentic** search loop in one click. Works offline with open weights or with your API key."
   ]
  },
  {
   "cell_type": "markdown",
   "metadata": {},
   "source": [
    "## 1 · Clone repository & install dependencies"
   ]
  },
  {
   "cell_type": "code",
   "execution_count": null,
   "metadata": {},
   "outputs": [],
   "source": "%%bash --no-stderr\nif [[ ! -d AGI-Alpha-Agent-v0 ]]; then\n  git clone --depth 1 https://github.com/MontrealAI/AGI-Alpha-Agent-v0.git -q\nfi\ncd AGI-Alpha-Agent-v0/alpha_factory_v1/demos/meta_agentic_agi\npip -q install -r requirements.txt"
  },
  {
   "cell_type": "markdown",
   "metadata": {},
   "source": [
    "## 2 · Optional API keys"
   ]
  },
  {
   "cell_type": "code",
   "execution_count": null,
   "metadata": {},
   "outputs": [],
   "source": "import os\nos.environ['OPENAI_API_KEY'] = ''\nos.environ['ANTHROPIC_API_KEY'] = ''"
  },
  {
   "cell_type": "markdown",
   "metadata": {},
   "source": [
    "## 2.5 · Verify runtime"
   ]
  },
  {
   "cell_type": "code",
   "execution_count": null,
   "metadata": {},
   "outputs": [],
   "source": "import platform, os\nprint('Python', platform.python_version())\nprint('Platform', platform.platform())\nos.system('nvidia-smi || echo \"No GPU detected\"')"
  },
  {
   "cell_type": "markdown",
   "metadata": {},
   "source": [
    "## 2.6 · Run demo tests"
   ]
  },
  {
   "cell_type": "code",
   "execution_count": null,
   "metadata": {},
   "outputs": [],
   "source": "!python ../../tests/test_meta_agentic_notebook.py"
  },
  {
   "cell_type": "markdown",
   "metadata": {},
   "source": [
    "## 3 · Run meta-agentic search loop"
   ]
  },
  {
   "cell_type": "code",
   "execution_count": null,
   "metadata": {},
   "outputs": [],
   "source": "!python meta_agentic_agi_demo.py --gens 6 --provider mistral:7b-instruct.gguf"
  },
  {
   "cell_type": "markdown",
   "metadata": {},
   "source": [
    "## 4 · Explore lineage dashboard"
   ]
  },
  {
   "cell_type": "code",
   "execution_count": null,
   "metadata": {},
   "outputs": [],
   "source": "import subprocess, sys, signal, time\nproc = subprocess.Popen(['streamlit','run','ui/lineage_app.py','--server.headless','true'])\ntime.sleep(3)\nprint('UI → http://localhost:8501')\ntry:\n    proc.wait()\nexcept KeyboardInterrupt:\n    proc.send_signal(signal.SIGINT)"
  },
  {
   "cell_type": "markdown",
   "metadata": {},
   "source": [
    "⚠️ Research demo only. Results are not production audited."
   ]
  }
 ],
 "metadata": {
  "kernelspec": {
   "display_name": "Python 3",
   "language": "python",
   "name": "python3"
  },
  "language_info": {
   "name": "python"
  }
 },
 "nbformat": 4,
 "nbformat_minor": 5
}
