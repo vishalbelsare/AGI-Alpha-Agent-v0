{
 "cells": [
  {
   "cell_type": "markdown",
   "metadata": {},
   "source": "[See docs/DISCLAIMER_SNIPPET.md](../../../docs/DISCLAIMER_SNIPPET.md)"
  },
  {
   "cell_type": "markdown",
   "metadata": {},
   "source": [
    "# 🛒 Alpha‑AGI Marketplace · Colab Notebook\n",
    "\n",
    "Run the Alpha‑Factory marketplace micro-demo.\n",
    "\n",
    "* 🔧 Start the orchestrator\n",
    "* 📨 Queue a sample job and inspect memory\n",
    "* 🔴 Works offline via Mixtral unless you provide an `OPENAI_API_KEY`\n",
    "* ✅ After setup run `python check_env.py --auto-install`\n",
    "\n",
    "Paste your OpenAI key below or leave blank to run offline."
   ]
  },
  {
   "cell_type": "markdown",
   "metadata": {},
   "source": [
    "**By running this notebook you agree to the [demo terms](TERMS_AND_CONDITIONS.md).**"
   ]
  },
  {
   "cell_type": "code",
   "metadata": {
    "id": "env"
   },
   "source": [
    "OPENAI_API_KEY = \"\"  # optional"
   ],
   "execution_count": null,
   "outputs": []
  },
  {
   "cell_type": "code",
   "metadata": {
    "id": "setup"
   },
   "source": [
    "%%bash",
    "if [ ! -d AGI-Alpha-Agent-v0 ]; then",
    "  git clone --depth 1 https://github.com/MontrealAI/AGI-Alpha-Agent-v0.git",
    "fi",
    "cd AGI-Alpha-Agent-v0",
    "pip install -q -r alpha_factory_v1/requirements-colab.txt"
   ],
   "execution_count": null,
   "outputs": []
  },
  {
   "cell_type": "markdown",
   "metadata": {},
   "source": [
    "### Offline wheelhouse install\n",
    "Mount a Google Drive folder (or local path) containing pre-built wheels and install packages without contacting PyPI. The package list is locked in `alpha_factory_v1/requirements-colab.lock`.\n"
   ]
  },
  {
   "cell_type": "code",
   "metadata": {},
   "execution_count": null,
   "outputs": [],
   "source": [
    "from google.colab import drive\n",
    "drive.mount('/content/drive')\n",
    "wheelhouse = '/content/drive/MyDrive/wheelhouse'  # or any local path\n",
    "!pip install --no-index --find-links $wheelhouse -r AGI-Alpha-Agent-v0/alpha_factory_v1/requirements-colab.lock\n"
   ]
  },
  {
   "cell_type": "markdown",
   "metadata": {},
   "source": [
    "## 🚀 Launch orchestrator (background)"
   ]
  },
  {
   "cell_type": "code",
   "metadata": {},
   "execution_count": null,
   "outputs": [],
   "source": [
    "%cd AGI-Alpha-Agent-v0\n",
    "!python check_env.py --auto-install\n"
   ]
  },
  {
   "cell_type": "code",
   "metadata": {
    "id": "launch"
   },
   "source": [
    "%%bash --bg\n",
    "cd AGI-Alpha-Agent-v0/alpha_factory_v1\n",
    "uvicorn backend.orchestrator:app --host 0.0.0.0 --port 8000 &>/dev/null &"
   ],
   "execution_count": null,
   "outputs": []
  },
  {
   "cell_type": "markdown",
   "metadata": {},
   "source": [
    "## 🔗 Expose API with pyngrok"
   ]
  },
  {
   "cell_type": "code",
   "metadata": {
    "id": "ngrok"
   },
   "source": [
    "from IPython.display import Markdown, display\n",
    "from pyngrok import ngrok, conf\n",
    "conf.get_default().region = 'us'\n",
    "api = ngrok.connect(8000, 'http')\n",
    "display(Markdown(f'[Open API docs]({api.public_url}/docs)'))\n",
    "print('API →', api.public_url)"
   ],
   "execution_count": null,
   "outputs": []
  },
  {
   "cell_type": "markdown",
   "metadata": {},
   "source": [
    "## ✅ Check orchestrator status"
   ]
  },
  {
   "cell_type": "code",
   "metadata": {
    "id": "check"
   },
   "source": [
    "from alpha_factory_v1.demos.alpha_agi_marketplace_v1 import MarketplaceClient\n",
    "client = MarketplaceClient()\n",
    "print('health →', client.health())\n",
    "print('agents →', client.agents())"
   ],
   "execution_count": null,
   "outputs": []
  },
  {
   "cell_type": "markdown",
   "metadata": {},
   "source": [
    "## 📋 Queue sample job and view memory"
   ]
  },
  {
   "cell_type": "code",
   "metadata": {
    "id": "queue"
   },
   "source": [
    "from alpha_factory_v1.demos.alpha_agi_marketplace_v1 import MarketplaceClient, SAMPLE_JOB\n",
    "import time, json\n",
    "client = MarketplaceClient()\n",
    "for _ in range(20):\n",
    "    try:\n",
    "        if client.health() == 'ok':\n",
    "            break\n",
    "    except Exception:\n",
    "        time.sleep(1)\n",
    "\n",
    "job = json.load(open(SAMPLE_JOB))\n",
    "client.queue_job(job)\n",
    "time.sleep(2)\n",
    "print('recent memory →', client.recent_memory(job['agent']))"
   ],
   "execution_count": null,
   "outputs": []
  },
  {
   "cell_type": "markdown",
   "metadata": {},
   "source": [
    "---\n",
    "### 🎉 All set!\n",
    "Use the API URL above to monitor progress or trigger your own jobs."
   ]
  }
 ],
 "metadata": {
  "kernelspec": {
   "display_name": "Python 3",
   "language": "python",
   "name": "python3"
  },
  "language_info": {
   "name": "python"
  }
 },
 "nbformat": 4,
 "nbformat_minor": 5
}
