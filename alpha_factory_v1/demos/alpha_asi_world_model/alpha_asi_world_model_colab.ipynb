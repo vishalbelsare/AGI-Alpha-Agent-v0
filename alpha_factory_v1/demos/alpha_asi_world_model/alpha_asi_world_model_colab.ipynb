{
 "cells": [
  {
   "cell_type": "markdown",
   "metadata": {},
   "source": "[See docs/DISCLAIMER_SNIPPET.md](../../../docs/DISCLAIMER_SNIPPET.md)"
  },
  {
   "cell_type": "markdown",
   "metadata": {},
   "source": [
    "This notebook is licensed under the Apache License 2.0 (SPDX-License-Identifier: Apache-2.0).\n",
    "# Alpha-Factory v1 · World Model Demo\n",
    "This Colab notebook boots the `alpha_asi_world_model` demo in minutes. Follow each step below."
   ]
  },
  {
   "cell_type": "markdown",
   "metadata": {},
   "source": "## 1. Clone the repository"
  },
  {
   "cell_type": "code",
   "metadata": {},
   "source": "!git clone https://github.com/MontrealAI/AGI-Alpha-Agent-v0.git && cd AGI-Alpha-Agent-v0 && git checkout a93de700289e72950a758ffa10ca05a54ddd6a17\n%cd AGI-Alpha-Agent-v0",
   "outputs": [],
   "execution_count": null
  },
  {
   "cell_type": "markdown",
   "metadata": {},
   "source": "## 2. Install dependencies\nRun the cell below to install Python packages. This may take a few minutes."
  },
  {
   "cell_type": "code",
   "metadata": {},
   "source": "!pip install -r alpha_factory_v1/demos/alpha_asi_world_model/requirements.txt",
   "outputs": [],
   "execution_count": null
  },
  {
   "cell_type": "markdown",
   "metadata": {},
   "source": "## 3. Launch the demo\nStart the FastAPI server with all agents active. The service exposes REST and WebSocket endpoints on port 7860."
  },
  {
   "cell_type": "code",
   "metadata": {},
   "source": "!python -m alpha_factory_v1.demos.alpha_asi_world_model.alpha_asi_world_model_demo --demo --host 0.0.0.0 --port 7860 &",
   "outputs": [],
   "execution_count": null
  },
  {
   "cell_type": "markdown",
   "metadata": {},
   "source": "## 4. Open the dashboard\nUse the utility below to open the interface in a new tab."
  },
  {
   "cell_type": "code",
   "metadata": {},
   "source": "from google.colab import output\noutput.serve_kernel_port_as_window(7860)",
   "outputs": [],
   "execution_count": null
  },
  {
   "cell_type": "markdown",
   "metadata": {},
   "source": "## 5. Interact via REST\nYou can control the orchestrator programmatically. The example below lists the registered agents then spawns a new environment."
  },
  {
   "cell_type": "code",
   "metadata": {},
   "source": "import requests, json\nbase='http://localhost:7860'\nprint('Active agents:', requests.get(base+'/agents').json())\nresp = requests.post(base+'/command', json={'cmd':'new_env'})\nprint('Spawned:', resp.json())",
   "outputs": [],
   "execution_count": null
  },
  {
   "cell_type": "markdown",
   "metadata": {},
   "source": "## 6. Shut down\nStop the service when you are done."
  },
  {
   "cell_type": "code",
   "metadata": {},
   "source": "!fuser -k 7860/tcp",
   "outputs": [],
   "execution_count": null
  },
  {
   "cell_type": "markdown",
   "metadata": {},
   "source": "## Optional offline mode\nSet `NO_LLM=1` if you do not provide an API key."
  },
  {
   "cell_type": "code",
   "metadata": {},
   "source": "import os\nif 'OPENAI_API_KEY' not in os.environ:\n    os.environ['NO_LLM']='1'",
   "outputs": [],
   "execution_count": null
  },
  {
   "cell_type": "code",
   "metadata": {},
   "source": "from IPython.display import IFrame\nIFrame('http://localhost:7860', width='100%', height=480)",
   "outputs": [],
   "execution_count": null
  },
  {
   "cell_type": "markdown",
   "metadata": {},
   "source": "## 7. Query via OpenAI Agents SDK"
  },
  {
   "cell_type": "code",
   "metadata": {},
   "source": "from openai_agents import Agent, AgentRuntime, Tool\nimport requests\n\n@Tool(name='list_agents', description='List orchestrator agents')\nasync def list_agents():\n    return requests.get('http://localhost:7860/agents').json()\n\nclass Inspector(Agent):\n    name='inspector'\n    tools=[list_agents]\n    async def policy(self, obs, ctx):\n        return await self.tools.list_agents()\n\nrt=AgentRuntime(api_key=None)\nrt.register(Inspector())\nprint('Active:', await list_agents())",
   "outputs": [],
   "execution_count": null
  },
  {
   "cell_type": "markdown",
   "metadata": {},
   "source": "## 8. Optional ADK gateway\nSet `ALPHA_FACTORY_ENABLE_ADK=true` to expose the inspector agent via Google ADK."
  },
  {
   "cell_type": "code",
   "execution_count": null,
   "metadata": {},
   "outputs": [],
   "source": "!ALPHA_FACTORY_ENABLE_ADK=true python openai_agents_bridge.py &"
  }
 ],
 "metadata": {
  "colab": {
   "provenance": [],
   "toc_visible": true
  },
  "kernelspec": {
   "display_name": "Python 3",
   "language": "python",
   "name": "python3"
  },
  "language_info": {
   "name": "python",
   "pygments_lexer": "ipython3"
  }
 },
 "nbformat": 4,
 "nbformat_minor": 0
}
