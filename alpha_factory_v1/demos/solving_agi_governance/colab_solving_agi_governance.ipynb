{
 "cells": [
  {
   "cell_type": "markdown",
   "metadata": {},
   "source": "[See docs/DISCLAIMER_SNIPPET.md](../../../docs/DISCLAIMER_SNIPPET.md)"
  },
  {
   "cell_type": "markdown",
   "id": "3d1d9f72",
   "metadata": {},
   "source": []
  },
  {
   "cell_type": "markdown",
   "id": "b8740ea6",
   "metadata": {},
   "source": [
    "# 🕊️ Governance Simulation · Colab Notebook\n",
    "*Alpha-Factory v1 👁*"
   ]
  },
  {
   "cell_type": "markdown",
   "id": "af949a37",
   "metadata": {},
   "source": [
    "### Why this notebook?\n",
    "\n",
    "Run the minimal governance Monte-Carlo simulator and visualize how cooperation emerges. Works fully offline."
   ]
  },
  {
   "cell_type": "markdown",
   "id": "4f25f593",
   "metadata": {},
   "source": [
    "## 0 · Runtime check"
   ]
  },
  {
   "cell_type": "code",
   "execution_count": null,
   "id": "53b1cb83",
   "metadata": {},
   "outputs": [],
   "source": [
    "!nvidia-smi -L || echo '🔹 GPU not detected — running on CPU'"
   ]
  },
  {
   "cell_type": "markdown",
   "id": "dbcaaa8b",
   "metadata": {},
   "source": [
    "## 1 · Install demo package\n",
    "*(≈ 10 s; wheels cached by Colab)*"
   ]
  },
  {
   "cell_type": "code",
   "execution_count": null,
   "id": "7ee2c88f",
   "metadata": {},
   "outputs": [],
   "source": [
    "%%bash\n",
    "set -e\n",
    "REPO=AGI-Alpha-Agent-v0\n",
    "if [ ! -d \"$REPO/.git\" ]; then\n",
    "  git clone --depth 1 https://github.com/MontrealAI/AGI-Alpha-Agent-v0.git $REPO\n",
    "fi\n",
    "cd $REPO\n",
    "pip install -q -e .\n"
   ]
  },
  {
   "cell_type": "markdown",
   "id": "06d70f5a",
   "metadata": {},
   "source": [
    "## 2 · Quick simulation"
   ]
  },
  {
   "cell_type": "code",
   "execution_count": null,
   "id": "7b675b1d",
   "metadata": {},
   "outputs": [],
   "source": [
    "from alpha_factory_v1.demos.solving_agi_governance import run_sim\n",
    "coop = run_sim(agents=500, rounds=3000, delta=0.8, stake=2.5, seed=42)\n",
    "print(f'mean cooperation ≈ {coop:.3f}')"
   ]
  },
  {
   "cell_type": "code",
   "execution_count": null,
   "id": "19221dbc",
   "metadata": {},
   "outputs": [],
   "source": [
    "\n",
    "import ipywidgets as widgets\n",
    "from IPython.display import display\n",
    "\n",
    "delta = widgets.FloatSlider(value=0.8, min=0.5, max=0.99, step=0.01, description='δ')\n",
    "button = widgets.Button(description='Run simulation')\n",
    "output = widgets.Output()\n",
    "\n",
    "def _run(_):\n",
    "    with output:\n",
    "        output.clear_output()\n",
    "        coop = run_sim(agents=500, rounds=3000, delta=delta.value, stake=2.5, seed=42)\n",
    "        print(f'mean cooperation ≈ {coop:.3f}')\n",
    "\n",
    "button.on_click(_run)\n",
    "display(delta, button, output)\n"
   ]
  },
  {
   "cell_type": "markdown",
   "id": "806dd8e9",
   "metadata": {},
   "source": [
    "## 3 · Explore δ sensitivity"
   ]
  },
  {
   "cell_type": "code",
   "execution_count": null,
   "id": "9bfe7ae3",
   "metadata": {},
   "outputs": [],
   "source": [
    "import numpy as np, matplotlib.pyplot as plt\n",
    "from alpha_factory_v1.demos.solving_agi_governance import run_sim\n",
    "\n",
    "deltas = np.linspace(0.6, 0.95, 8)\n",
    "coops = [run_sim(agents=200, rounds=2000, delta=d, stake=2.5, seed=0) for d in deltas]\n",
    "plt.plot(deltas, coops, marker='o')\n",
    "plt.xlabel('Discount factor δ')\n",
    "plt.ylabel('Mean cooperation')\n",
    "plt.grid(True)\n",
    "plt.show()"
   ]
  },
  {
   "cell_type": "code",
   "execution_count": null,
   "id": "b9e5c980",
   "metadata": {},
   "outputs": [],
   "source": [
    "\n",
    "try:\n",
    "    import openai_agents  # type: ignore\n",
    "    import subprocess\n",
    "    subprocess.run(['governance-bridge', '--help'], check=True)\n",
    "except ModuleNotFoundError:\n",
    "    print('openai-agents not installed; skipping governance-bridge demo.')\n"
   ]
  },
  {
   "cell_type": "markdown",
   "metadata": {},
   "source": [
    "## 4 · ADK Gateway (experimental)\n",
    "The **Google Agent Development Kit (ADK)** lets agents collaborate over the A2A protocol. ",
    "When `google-adk` is installed and the `ALPHA_FACTORY_ENABLE_ADK` environment variable is set,\n",
    "the bridge exposes an A2A endpoint so remote agents can delegate tasks.\n"
   ]
  },
  {
   "cell_type": "code",
   "execution_count": null,
   "metadata": {},
   "outputs": [],
   "source": [
    "import os, subprocess\n",
    "try:\n",
    "    import google_adk  # type: ignore\n",
    "    if os.getenv(\"ALPHA_FACTORY_ENABLE_ADK\", \"false\").lower() == \"true\":\n",
    "        subprocess.run([\"governance-bridge\", \"--enable-adk\", \"--help\"], check=True)\n",
    "    else:\n",
    "        print(\"Set ALPHA_FACTORY_ENABLE_ADK=true to start the ADK gateway.\")\n",
    "except ModuleNotFoundError:\n",
    "    print(\"google-adk not installed; skipping ADK gateway demo.\")\n"
   ]
  },
  {
   "cell_type": "markdown",
   "id": "b045ee16",
   "metadata": {},
   "source": [
    "---\n",
    "© 2025 **MONTREAL.AI** • Apache-2.0 License"
   ]
  }
 ],
 "metadata": {
  "colab": {
   "provenance": []
  }
 },
 "nbformat": 4,
 "nbformat_minor": 5
}
