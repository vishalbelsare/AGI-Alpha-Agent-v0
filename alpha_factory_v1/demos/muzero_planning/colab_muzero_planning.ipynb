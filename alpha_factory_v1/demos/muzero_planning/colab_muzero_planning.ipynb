{
 "cells": [
  {
   "cell_type": "markdown",
   "metadata": {},
   "source": "[See docs/DISCLAIMER_SNIPPET.md](../../../docs/DISCLAIMER_SNIPPET.md)"
  },
  {
   "cell_type": "markdown",
   "id": "ecfd703e",
   "metadata": {},
   "source": [
    "This notebook is licensed under the Apache License 2.0 (SPDX-License-Identifier: Apache-2.0).\n",
    "# MuZero Planning Demo – Colab\n",
    "Experience MuZero-style planning in seconds. Run each cell to install dependencies, test the environment and launch a shareable dashboard.\n",
    "\n",
    "Add your **OpenAI API key** if you want narrated moves; otherwise Mixtral runs locally for a 100% offline demo."
   ]
  },
  {
   "cell_type": "code",
   "execution_count": null,
   "id": "fb0bb1be",
   "metadata": {},
   "outputs": [],
   "source": [
    "# Install core dependencies\n",
    "!pip -q install \"torch>=2.1\" gymnasium[classic-control] gradio openai_agents pytest\n"
   ]
  },
  {
   "cell_type": "code",
   "execution_count": null,
   "id": "881ead00",
   "metadata": {},
   "outputs": [],
   "source": [
    "# Clone Alpha‑Factory repository\n",
    "!git clone --depth 1 https://github.com/MontrealAI/AGI-Alpha-Agent-v0.git\n",
    "%cd AGI-Alpha-Agent-v0/alpha_factory_v1/demos/muzero_planning"
   ]
  },
  {
   "cell_type": "code",
   "metadata": {},
   "execution_count": null,
   "outputs": [],
   "source": [
    "# Run quick sanity tests (optional)\n",
    "!pytest -q tests/test_muzero_planning.py\n"
   ]
  },
  {
   "cell_type": "code",
   "execution_count": null,
   "id": "config-env",
   "metadata": {},
   "outputs": [],
   "source": [
    "# Optional environment settings\n",
    "MUZERO_ENV_ID = 'CartPole-v1'  # change to try other Gym tasks\n",
    "HOST_PORT = 7861\n",
    "MUZERO_EPISODES = 3  # number of episodes to run",
    "import os\n",
    "os.environ['MUZERO_ENV_ID'] = MUZERO_ENV_ID\n",
    "os.environ['HOST_PORT'] = str(HOST_PORT)\n",
    "os.environ['MUZERO_EPISODES'] = str(MUZERO_EPISODES)\n",
    "print(f'Environment: {MUZERO_ENV_ID}, episodes={MUZERO_EPISODES}, dashboard → http://localhost:{HOST_PORT}')"
   ]
  },
  {
   "cell_type": "code",
   "execution_count": null,
   "id": "0afcf7b6",
   "metadata": {},
   "outputs": [],
   "source": [
    "# 👉 OPTIONAL: set your OpenAI key for commentary\n",
    "# import os, getpass\n",
    "# os.environ[\"OPENAI_API_KEY\"] = getpass.getpass(prompt=\"Enter OpenAI API key: \")"
   ]
  },
  {
   "cell_type": "code",
   "execution_count": null,
   "id": "9874987f",
   "metadata": {},
   "outputs": [],
   "source": [
    "# Launch the MuZero Gradio dashboard (shared link will appear below)\n",
    "import os, subprocess, time, signal, sys, threading\n",
    "os.environ[\"GRADIO_SHARE\"] = \"1\"\n",
    "process = subprocess.Popen([sys.executable, \"agent_muzero_entrypoint.py\"])\n",
    "print(\"⌛ Booting… wait for the public URL ↴\")\n",
    "try:\n",
    "    while process.poll() is None:\n",
    "        time.sleep(5)\n",
    "except KeyboardInterrupt:\n",
    "    process.send_signal(signal.SIGINT)\n",
    "    process.wait()\n"
   ]
  },
  {
   "cell_type": "code",
   "execution_count": null,
   "id": "shutdown",
   "metadata": {},
   "outputs": [],
   "source": [
    "# ⏹️ Stop the MuZero dashboard\n",
    "process.send_signal(signal.SIGINT)\n",
    "process.wait()\n",
    "print('MuZero demo stopped.')"
   ]
  }
 ],
 "metadata": {
  "kernelspec": {
   "display_name": "Python 3",
   "language": "python",
   "name": "python3"
  },
  "language_info": {
   "name": "python",
   "version": "3.x"
  }
 },
 "nbformat": 4,
 "nbformat_minor": 5
}
