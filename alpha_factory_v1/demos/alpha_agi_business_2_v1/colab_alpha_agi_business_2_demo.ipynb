{
 "cells": [
  {
   "cell_type": "markdown",
   "metadata": {},
   "source": "[See docs/DISCLAIMER_SNIPPET.md](../../../docs/DISCLAIMER_SNIPPET.md)"
  },
  {
   "cell_type": "markdown",
   "metadata": {},
   "source": [
    "# Alpha-AGI Business v2 • Colab Notebook"
   ]
  },
  {
   "cell_type": "markdown",
   "metadata": {},
   "source": [
    "Run a compact **Alpha-Factory** orchestrator with two demonstration agents.\nWorks fully offline or upgrades automatically when `OPENAI_API_KEY` is set."
   ]
  },
  {
   "cell_type": "markdown",
   "metadata": {},
   "source": [
    "## 0 · Runtime check"
   ]
  },
  {
   "cell_type": "code",
   "execution_count": null,
   "metadata": {},
   "outputs": [],
   "source": [
    "!nvidia-smi -L || echo 'GPU not detected - running on CPU'"
   ]
  },
  {
   "cell_type": "markdown",
   "metadata": {},
   "source": [
    "## 1 · Clone repo & install dependencies"
   ]
  },
  {
   "cell_type": "code",
   "execution_count": null,
   "metadata": {},
   "outputs": [],
   "source": [
    "%%bash\nset -e\nif [ ! -d AGI-Alpha-Agent-v0 ]; then\n  git clone --depth 1 https://github.com/MontrealAI/AGI-Alpha-Agent-v0.git\nfi\ncd AGI-Alpha-Agent-v0\npip -q install openai_agents fastapi uvicorn gradio"
   ]
  },
  {
   "cell_type": "markdown",
   "metadata": {},
   "source": [
    "## 2 · (Optional) Configure your OpenAI API key"
   ]
  },
  {
   "cell_type": "code",
   "execution_count": null,
   "metadata": {},
   "outputs": [],
   "source": [
    "import os, getpass\nos.environ['OPENAI_API_KEY'] = getpass.getpass('Enter OpenAI API key (leave blank for offline): ')"
   ]
  },
  {
   "cell_type": "markdown",
   "metadata": {},
   "source": [
    "## 3 · Launch orchestrator"
   ]
  },
  {
   "cell_type": "code",
   "execution_count": null,
   "metadata": {},
   "outputs": [],
   "source": [
    "import subprocess, re, queue, threading, sys, time\nfrom IPython.display import display, IFrame\n\nroot = 'AGI-Alpha-Agent-v0/alpha_factory_v1/demos/alpha_agi_business_2_v1'\nproc = subprocess.Popen([sys.executable, '-m', 'alpha_agi_business_2_v1'], cwd=root, stdout=subprocess.PIPE, stderr=subprocess.STDOUT, text=True, bufsize=1)\n\nq = queue.Queue()\n\ndef _tail():\n    for line in proc.stdout:\n        print(line, end='')\n        m = re.search(r'http://localhost:(\\d+)/docs', line)\n        if m:\n            q.put(int(m.group(1)))\n\nthreading.Thread(target=_tail, daemon=True).start()\nport = q.get()\nprint(f'⏳ Waiting for REST docs on port {port}...')\nfor _ in range(40):\n    try:\n        import requests\n        if requests.get(f'http://localhost:{port}/healthz').status_code == 200:\n            break\n    except Exception:\n        time.sleep(0.2)\n\niframe = IFrame(src=f'http://localhost:{port}/docs', width='100%', height=600)\ndisplay(iframe)"
   ]
  },
  {
   "cell_type": "markdown",
   "metadata": {},
   "source": [
    "## 4 · Explore the API"
   ]
  },
  {
   "cell_type": "code",
   "execution_count": null,
   "metadata": {},
   "outputs": [],
   "source": [
    "import requests\n",
    "base = f'http://localhost:{port}'\n",
    "print('Available agents:', requests.get(f'{base}/agents').json())\n",
    "print('Trigger planning:', requests.post(f'{base}/agent/planning/trigger').json())"
   ]
  },
  {
   "cell_type": "markdown",
   "metadata": {},
   "source": [
    "## 5 · Graceful shutdown"
   ]
  },
  {
   "cell_type": "code",
   "execution_count": null,
   "metadata": {},
   "outputs": [],
   "source": [
    "proc.terminate(); print('✅ Orchestrator stopped')"
   ]
  }
 ],
 "metadata": {
  "kernelspec": {
   "display_name": "Python 3",
   "language": "python",
   "name": "python3"
  },
  "language_info": {
   "name": "python",
   "version": "3.x"
  }
 },
 "nbformat": 4,
 "nbformat_minor": 5
}
