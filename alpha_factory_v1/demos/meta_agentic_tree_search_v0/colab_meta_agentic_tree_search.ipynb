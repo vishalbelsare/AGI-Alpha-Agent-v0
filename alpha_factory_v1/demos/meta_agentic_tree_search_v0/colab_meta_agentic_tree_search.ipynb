{
 "cells": [
  {
   "cell_type": "markdown",
   "metadata": {},
   "source": "[See docs/DISCLAIMER_SNIPPET.md](../../../docs/DISCLAIMER_SNIPPET.md)"
  },
  {
   "cell_type": "markdown",
   "metadata": {},
   "source": [
    "# Meta-Agentic Tree Search Demo 📋\n",
    "Explore recursive agent rewrites with a best-first search policy. This notebook installs dependencies and runs the demo automatically.\n"
   ]
  },
  {
   "cell_type": "markdown",
   "metadata": {},
   "source": [
    "## 1 · Setup"
   ]
  },
  {
   "cell_type": "code",
   "metadata": {},
   "execution_count": null,
   "outputs": [],
   "source": [
    "%%bash --no-stderr\n",
    "if [[ -f run_demo.py ]]; then\n",
    "  # running from local checkout\n",
    "  cd .\n",
    "elif [[ -d AGI-Alpha-Agent-v0 ]]; then\n",
    "  cd AGI-Alpha-Agent-v0/alpha_factory_v1/demos/meta_agentic_tree_search_v0\n",
    "else\n",
    "  git clone --depth 1 https://github.com/MontrealAI/AGI-Alpha-Agent-v0.git -q\n",
    "  cd AGI-Alpha-Agent-v0/alpha_factory_v1/demos/meta_agentic_tree_search_v0\n",
    "fi\n",
    "pip -q install -r requirements.txt\n",
    "python ../../check_env.py --auto-install || true\n",
    "python - <<'PY'\n",
    "import importlib.util, os\n",
    "pkgs=['openai_agents','google_adk']\n",
    "found=[p for p in pkgs if importlib.util.find_spec(p)]\n",
    "keys=[k for k in ('OPENAI_API_KEY','ANTHROPIC_API_KEY') if os.getenv(k)]\n",
    "if found or keys:\n",
    "    print('\\n\u001b[92mOptional packages: '+', '.join(found or ['none'])+'; API keys: '+', '.join(keys or ['none'])+'\u001b[0m\\n')\n",
    "else:\n",
    "    print('\\n\u001b[93mOffline mode: missing optional packages and API keys\u001b[0m\\n')\n",
    "PY\n",
    "python run_demo.py --episodes 10 --rewriter openai\n"
   ]
  },
  {
   "cell_type": "markdown",
   "metadata": {},
   "source": [
    "### Offline Setup\n",
    "If you need to install without network access, build wheels on a machine with internet connectivity:\n",
    "\n",
    "```bash\n",
    "pip wheel -r requirements.txt -w /tmp/wheels\n",
    "```\n",
    "\n",
    "Copy `/tmp/wheels` to this runtime and install packages from there:\n",
    "\n",
    "```bash\n",
    "WHEELHOUSE=/tmp/wheels pip install -r requirements.txt\n",
    "```\n"
   ]
  },
  {
   "cell_type": "markdown",
   "metadata": {},
   "source": [
    "## 2 · Optional API keys"
   ]
  },
  {
   "cell_type": "code",
   "metadata": {},
   "execution_count": null,
   "outputs": [],
   "source": "import os\n# Set your API keys if available. Leave unset if none.\n# os.environ['OPENAI_API_KEY'] = 'sk-...'\n# os.environ['ANTHROPIC_API_KEY'] = 'sk-ant-...'\nos.environ['OPENAI_MODEL'] = 'gpt-4o'"
  },
  {
   "cell_type": "markdown",
   "metadata": {},
   "source": [
    "## 3 · Verify environment"
   ]
  },
  {
   "cell_type": "code",
   "metadata": {},
   "execution_count": null,
   "outputs": [],
   "source": "!python openai_agents_bridge.py --verify-env --episodes 3 --target 4"
  },
  {
   "cell_type": "markdown",
   "metadata": {},
   "source": [
    "## 4 · Run demo"
   ]
  },
  {
   "cell_type": "markdown",
   "metadata": {},
   "source": [
    "Demo started automatically above. Re-run with custom arguments below if desired."
   ]
  },
  {
   "cell_type": "markdown",
   "metadata": {},
   "source": [
    "## 5 · Agents bridge (optional)"
   ]
  },
  {
   "cell_type": "code",
   "metadata": {},
   "execution_count": null,
   "outputs": [],
   "source": "!python openai_agents_bridge.py --episodes 5 --target 5 --rewriter openai"
  }
 ],
 "metadata": {
  "kernelspec": {
   "display_name": "Python 3",
   "language": "python",
   "name": "python3"
  },
  "language_info": {
   "name": "python"
  }
 },
 "nbformat": 4,
 "nbformat_minor": 5
}
