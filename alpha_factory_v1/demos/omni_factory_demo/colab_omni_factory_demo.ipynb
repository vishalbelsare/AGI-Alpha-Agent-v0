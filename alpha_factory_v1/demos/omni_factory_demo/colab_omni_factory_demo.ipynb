{
 "cells": [
  {
   "cell_type": "markdown",
   "metadata": {},
   "source": "[See docs/DISCLAIMER_SNIPPET.md](../../../docs/DISCLAIMER_SNIPPET.md)"
  },
  {
   "cell_type": "markdown",
   "metadata": {},
   "source": [
    "# OMNI-Factory Smart City Demo 🌆",
    "",
    "Run the autonomous smart-city simulation right in Colab."
   ]
  },
  {
   "cell_type": "markdown",
   "metadata": {},
   "source": [
    "## 1 · Clone repository & install dependencies"
   ]
  },
  {
   "cell_type": "code",
   "metadata": {},
   "execution_count": null,
   "outputs": [],
   "source": [
    "%%bash",
    "if [ ! -d AGI-Alpha-Agent-v0 ]; then",
    "  git clone --depth 1 https://github.com/MontrealAI/AGI-Alpha-Agent-v0.git",
    "fi",
    "cd AGI-Alpha-Agent-v0",
    "pip install -q -r alpha_factory_v1/requirements-colab.txt"
   ]
  },
  {
   "cell_type": "markdown",
   "metadata": {},
   "source": [
    "### Offline wheelhouse install\n",
    "Mount a Google Drive folder (or local path) containing pre-built wheels and install packages without contacting PyPI. The full list of packages is locked in `alpha_factory_v1/requirements-colab.lock`.\n"
   ]
  },
  {
   "cell_type": "code",
   "metadata": {},
   "execution_count": null,
   "outputs": [],
   "source": [
    "from google.colab import drive\n",
    "drive.mount('/content/drive')\n",
    "wheelhouse = '/content/drive/MyDrive/wheelhouse'  # or any local path\n",
    "!pip install --no-index --find-links $wheelhouse -r AGI-Alpha-Agent-v0/alpha_factory_v1/requirements-colab.lock\n"
   ]
  },
  {
   "cell_type": "markdown",
   "metadata": {},
   "source": [
    "## 1b · Verify environment"
   ]
  },
  {
   "cell_type": "code",
   "metadata": {},
   "execution_count": null,
   "outputs": [],
   "source": [
    "!python AGI-Alpha-Agent-v0/check_env.py"
   ]
  },
  {
   "cell_type": "markdown",
   "metadata": {},
   "source": [
    "## 2 · Optional API keys"
   ]
  },
  {
   "cell_type": "code",
   "metadata": {},
   "execution_count": null,
   "outputs": [],
   "source": [
    "import os",
    "os.environ['OPENAI_API_KEY'] = ''",
    "os.environ['GOOGLE_ADK_KEY'] = ''"
   ]
  },
  {
   "cell_type": "markdown",
   "metadata": {},
   "source": [
    "## 3 · Launch demo & dashboard"
   ]
  },
  {
   "cell_type": "code",
   "metadata": {
    "id": "03-launch"
   },
   "execution_count": null,
   "outputs": [],
   "source": [
    "%%bash --bg",
    "cd AGI-Alpha-Agent-v0/alpha_factory_v1/demos/omni_factory_demo",
    "python omni_factory_demo.py --metrics-port 9137 &> omni_demo.log &",
    "python omni_metrics_exporter.py --port 9137 &> exporter.log &",
    "python omni_dashboard.py --host 0.0.0.0 --port 8050 --no-browser"
   ]
  },
  {
   "cell_type": "markdown",
   "metadata": {},
   "source": [
    "## 4 · Expose dashboard"
   ]
  },
  {
   "cell_type": "code",
   "metadata": {},
   "execution_count": null,
   "outputs": [],
   "source": [
    "from pyngrok import ngrok, conf",
    "conf.get_default().region = 'us'",
    "url = ngrok.connect(8050, 'http')",
    "print('Dashboard →', url.public_url)"
   ]
  },
  {
   "cell_type": "markdown",
   "metadata": {},
   "source": [
    "## 5 · Inspect ledger\n",
    "View recent ledger entries and token minting activity."
   ]
  },
  {
   "cell_type": "code",
   "metadata": {},
   "execution_count": null,
   "outputs": [],
   "source": [
    "%%bash\n",
    "cd AGI-Alpha-Agent-v0/alpha_factory_v1/demos/omni_factory_demo\n",
    "python omni_ledger_cli.py list --tail 10\n"
   ]
  },
  {
   "cell_type": "markdown",
   "metadata": {},
   "source": [
    "⚠️ Run time may vary; please be patient while the dashboard starts. For a quick smoke test use `--dry-run`."
   ]
  },
  {
   "cell_type": "markdown",
   "metadata": {},
   "source": [
    "## 6 · Run unit tests"
   ]
  },
  {
   "cell_type": "code",
   "metadata": {},
   "execution_count": null,
   "outputs": [],
   "source": [
    "%%bash\ncd AGI-Alpha-Agent-v0/alpha_factory_v1/demos/omni_factory_demo\npython alpha_discovery_stub.py\ncat omni_alpha_log.json\n"
   ]
  },
  {
   "cell_type": "code",
   "metadata": {},
   "execution_count": null,
   "outputs": [],
   "source": [
    "!python -m alpha_factory_v1.scripts.run_tests"
   ]
  }
 ],
 "metadata": {
  "kernelspec": {
   "display_name": "Python 3",
   "language": "python",
   "name": "python3"
  },
  "language_info": {
   "name": "python"
  }
 },
 "nbformat": 4,
 "nbformat_minor": 5
}
