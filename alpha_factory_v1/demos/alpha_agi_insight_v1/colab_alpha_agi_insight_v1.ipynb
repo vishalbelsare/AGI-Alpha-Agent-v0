{
 "cells": [
  {
   "cell_type": "markdown",
   "metadata": {},
   "source": "[See docs/DISCLAIMER_SNIPPET.md](../../../docs/DISCLAIMER_SNIPPET.md)"
  },
  {
   "cell_type": "markdown",
   "metadata": {},
   "source": "# α-AGI Insight v1 Demo\nExplore the production Insight demo directly in Colab. The notebook installs dependencies, checks the environment and launches a local API with a Streamlit dashboard."
  },
  {
   "cell_type": "code",
   "metadata": {},
   "execution_count": null,
   "outputs": [],
   "source": "%%bash --no-stderr\n# Use local wheels when WHEELHOUSE is set\nif [[ -n \"$WHEELHOUSE\" ]]; then\n  export PIP_NO_INDEX=1\n  export PIP_FIND_LINKS=\"$WHEELHOUSE\"\nfi\nif [[ ! -d AGI-Alpha-Agent-v0 ]]; then\n  if [[ -z \"$WHEELHOUSE\" ]]; then\n    git clone --depth 1 https://github.com/MontrealAI/AGI-Alpha-Agent-v0.git -q\n  else\n    echo \"Repository missing; copy AGI-Alpha-Agent-v0 next to this notebook.\" >&2\n    exit 1\n  fi\nfi\ncd AGI-Alpha-Agent-v0\npip install -q -r alpha_factory_v1/requirements-colab.lock\npython check_env.py --auto-install ${WHEELHOUSE:+--wheelhouse \"$WHEELHOUSE\"} || true\n"
  },
  {
   "cell_type": "markdown",
   "metadata": {},
   "source": "## Optional API token and OpenAI key"
  },
  {
   "cell_type": "code",
   "metadata": {},
   "execution_count": null,
   "outputs": [],
   "source": "import os\nos.environ['OPENAI_API_KEY'] = ''\nos.environ['API_TOKEN'] = 'demo'"
  },
  {
   "cell_type": "markdown",
   "metadata": {},
   "source": "Run the cell below to start the API server and open the Streamlit dashboard."
  },
  {
   "cell_type": "code",
   "metadata": {},
   "execution_count": null,
   "outputs": [],
   "source": "import subprocess, sys, os, time\nfrom google.colab import output\nroot='AGI-Alpha-Agent-v0'\napi_env=os.environ.copy()\napi_env.setdefault('API_TOKEN','demo')\nsubprocess.Popen([sys.executable,'-m','alpha_factory_v1.demos.alpha_agi_insight_v1.src.interface.api_server','--host','0.0.0.0','--port','8000'],cwd=root,env=api_env)\nsubprocess.Popen(['streamlit','run','alpha_factory_v1/demos/alpha_agi_insight_v1/src/interface/web_app.py','--server.headless','true','--server.port','8501'],cwd=root)\ntime.sleep(3)\noutput.serve_kernel_port_as_window(8501)\n"
  }
 ],
 "metadata": {
  "kernelspec": {
   "display_name": "Python 3",
   "language": "python",
   "name": "python3"
  },
  "language_info": {
   "name": "python"
  }
 },
 "nbformat": 4,
 "nbformat_minor": 5
}
